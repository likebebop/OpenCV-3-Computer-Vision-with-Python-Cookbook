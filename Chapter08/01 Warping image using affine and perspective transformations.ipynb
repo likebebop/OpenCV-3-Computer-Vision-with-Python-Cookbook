{
 "cells": [
  {
   "cell_type": "code",
   "execution_count": 1,
   "metadata": {},
   "outputs": [],
   "source": [
    "import cv2\n",
    "import numpy as np\n",
    "\n",
    "img = cv2.imread('../data/circlesgrid.png', cv2.IMREAD_COLOR)\n",
    "show_img = np.copy(img)"
   ]
  },
  {
   "cell_type": "code",
   "execution_count": 4,
   "metadata": {},
   "outputs": [],
   "source": [
    "selected_pts = []\n",
    "\n",
    "def mouse_callback(event, x, y, flags, param):\n",
    "    global selected_pts, show_img\n",
    "\n",
    "    if event == cv2.EVENT_LBUTTONUP:\n",
    "        selected_pts.append([x, y])\n",
    "        cv2.circle(show_img, (x, y), 10, (0, 255, 0), 3)\n",
    "\n",
    "def select_points(image, points_num):\n",
    "    global selected_pts\n",
    "    selected_pts = []\n",
    "    \n",
    "    cv2.namedWindow('image')\n",
    "    cv2.setMouseCallback('image', mouse_callback)\n",
    "\n",
    "    while True:\n",
    "        cv2.imshow('image', image)\n",
    "\n",
    "        k = cv2.waitKey(1)\n",
    "\n",
    "        if k == 27 or len(selected_pts) == points_num:\n",
    "            break\n",
    "\n",
    "    cv2.destroyAllWindows()\n",
    "\n",
    "    return np.array(selected_pts, dtype=np.float32)"
   ]
  },
  {
   "cell_type": "code",
   "execution_count": 7,
   "metadata": {},
   "outputs": [
    {
     "output_type": "error",
     "ename": "error",
     "evalue": "OpenCV(4.5.1) /private/var/folders/nz/vv4_9tw56nv9k3tkvyszvwg80000gn/T/pip-req-build-39p1qqfs/opencv/modules/imgproc/src/imgwarp.cpp:3399: error: (-215:Assertion failed) src.checkVector(2, CV_32F) == 3 && dst.checkVector(2, CV_32F) == 3 in function 'getAffineTransform'\n",
     "traceback": [
      "\u001b[0;31m---------------------------------------------------------------------------\u001b[0m",
      "\u001b[0;31merror\u001b[0m                                     Traceback (most recent call last)",
      "\u001b[0;32m<ipython-input-7-7376f123191a>\u001b[0m in \u001b[0;36m<module>\u001b[0;34m\u001b[0m\n\u001b[1;32m      3\u001b[0m \u001b[0mdst_pts\u001b[0m \u001b[0;34m=\u001b[0m \u001b[0mnp\u001b[0m\u001b[0;34m.\u001b[0m\u001b[0marray\u001b[0m\u001b[0;34m(\u001b[0m\u001b[0;34m[\u001b[0m\u001b[0;34m[\u001b[0m\u001b[0;36m0\u001b[0m\u001b[0;34m,\u001b[0m \u001b[0;36m240\u001b[0m\u001b[0;34m]\u001b[0m\u001b[0;34m,\u001b[0m \u001b[0;34m[\u001b[0m\u001b[0;36m0\u001b[0m\u001b[0;34m,\u001b[0m \u001b[0;36m0\u001b[0m\u001b[0;34m]\u001b[0m\u001b[0;34m,\u001b[0m \u001b[0;34m[\u001b[0m\u001b[0;36m240\u001b[0m\u001b[0;34m,\u001b[0m \u001b[0;36m0\u001b[0m\u001b[0;34m]\u001b[0m\u001b[0;34m]\u001b[0m\u001b[0;34m,\u001b[0m \u001b[0mdtype\u001b[0m\u001b[0;34m=\u001b[0m\u001b[0mnp\u001b[0m\u001b[0;34m.\u001b[0m\u001b[0mfloat32\u001b[0m\u001b[0;34m)\u001b[0m\u001b[0;34m\u001b[0m\u001b[0;34m\u001b[0m\u001b[0m\n\u001b[1;32m      4\u001b[0m \u001b[0;34m\u001b[0m\u001b[0m\n\u001b[0;32m----> 5\u001b[0;31m \u001b[0maffine_m\u001b[0m \u001b[0;34m=\u001b[0m \u001b[0mcv2\u001b[0m\u001b[0;34m.\u001b[0m\u001b[0mgetAffineTransform\u001b[0m\u001b[0;34m(\u001b[0m\u001b[0msrc_pts\u001b[0m\u001b[0;34m,\u001b[0m \u001b[0mdst_pts\u001b[0m\u001b[0;34m)\u001b[0m\u001b[0;34m\u001b[0m\u001b[0;34m\u001b[0m\u001b[0m\n\u001b[0m\u001b[1;32m      6\u001b[0m \u001b[0;34m\u001b[0m\u001b[0m\n\u001b[1;32m      7\u001b[0m \u001b[0munwarped_img\u001b[0m \u001b[0;34m=\u001b[0m \u001b[0mcv2\u001b[0m\u001b[0;34m.\u001b[0m\u001b[0mwarpAffine\u001b[0m\u001b[0;34m(\u001b[0m\u001b[0mimg\u001b[0m\u001b[0;34m,\u001b[0m \u001b[0maffine_m\u001b[0m\u001b[0;34m,\u001b[0m \u001b[0;34m(\u001b[0m\u001b[0;36m240\u001b[0m\u001b[0;34m,\u001b[0m \u001b[0;36m240\u001b[0m\u001b[0;34m)\u001b[0m\u001b[0;34m)\u001b[0m\u001b[0;34m\u001b[0m\u001b[0;34m\u001b[0m\u001b[0m\n",
      "\u001b[0;31merror\u001b[0m: OpenCV(4.5.1) /private/var/folders/nz/vv4_9tw56nv9k3tkvyszvwg80000gn/T/pip-req-build-39p1qqfs/opencv/modules/imgproc/src/imgwarp.cpp:3399: error: (-215:Assertion failed) src.checkVector(2, CV_32F) == 3 && dst.checkVector(2, CV_32F) == 3 in function 'getAffineTransform'\n"
     ]
    }
   ],
   "source": [
    "show_img = np.copy(img)\n",
    "src_pts = select_points(show_img, 3)\n",
    "dst_pts = np.array([[0, 240], [0, 0], [240, 0]], dtype=np.float32)\n",
    "\n",
    "affine_m = cv2.getAffineTransform(src_pts, dst_pts)\n",
    "\n",
    "unwarped_img = cv2.warpAffine(img, affine_m, (240, 240))\n",
    "\n",
    "cv2.imshow('result', np.hstack((show_img, unwarped_img)))\n",
    "k = cv2.waitKey()\n",
    "\n",
    "cv2.destroyAllWindows()"
   ]
  },
  {
   "cell_type": "code",
   "execution_count": null,
   "metadata": {},
   "outputs": [],
   "source": [
    "inv_affine = cv2.invertAffineTransform(affine_m)\n",
    "warped_img = cv2.warpAffine(unwarped_img, inv_affine, (320, 240))\n",
    "\n",
    "cv2.imshow('result', np.hstack((show_img, unwarped_img, warped_img)))\n",
    "k = cv2.waitKey()\n",
    "\n",
    "cv2.destroyAllWindows()"
   ]
  },
  {
   "cell_type": "code",
   "execution_count": 5,
   "metadata": {},
   "outputs": [],
   "source": [
    "rotation_mat = cv2.getRotationMatrix2D(tuple(src_pts[0]), 6, 1)\n",
    "\n",
    "rotated_img = cv2.warpAffine(img, rotation_mat, (240, 240))\n",
    "\n",
    "cv2.imshow('result', np.hstack((show_img, rotated_img)))\n",
    "k = cv2.waitKey()\n",
    "\n",
    "cv2.destroyAllWindows()"
   ]
  },
  {
   "cell_type": "code",
   "execution_count": 6,
   "metadata": {},
   "outputs": [
    {
     "data": {
      "text/plain": [
       "True"
      ]
     },
     "execution_count": 6,
     "metadata": {},
     "output_type": "execute_result"
    }
   ],
   "source": [
    "show_img = np.copy(img)\n",
    "src_pts = select_points(show_img, 4)\n",
    "dst_pts = np.array([[0, 240], [0, 0], [240, 0], [240, 240]], dtype=np.float32)\n",
    "\n",
    "perspective_m = cv2.getPerspectiveTransform(src_pts, dst_pts)\n",
    "\n",
    "unwarped_img = cv2.warpPerspective(img, perspective_m, (240, 240))\n",
    "\n",
    "cv2.imshow('result', np.hstack((show_img, unwarped_img)))\n",
    "k = cv2.waitKey()\n",
    "\n",
    "cv2.destroyAllWindows()"
   ]
  },
  {
   "cell_type": "code",
   "execution_count": null,
   "metadata": {},
   "outputs": [],
   "source": []
  }
 ],
 "metadata": {
  "kernelspec": {
   "name": "python382jvsc74a57bd031f2aee4e71d21fbe5cf8b01ff0e069b9275f58929596ceb00d14d90e3e16cd6",
   "display_name": "Python 3.8.2 64-bit"
  },
  "language_info": {
   "codemirror_mode": {
    "name": "ipython",
    "version": 3
   },
   "file_extension": ".py",
   "mimetype": "text/x-python",
   "name": "python",
   "nbconvert_exporter": "python",
   "pygments_lexer": "ipython3",
   "version": "3.8.2"
  },
  "metadata": {
   "interpreter": {
    "hash": "31f2aee4e71d21fbe5cf8b01ff0e069b9275f58929596ceb00d14d90e3e16cd6"
   }
  }
 },
 "nbformat": 4,
 "nbformat_minor": 2
}